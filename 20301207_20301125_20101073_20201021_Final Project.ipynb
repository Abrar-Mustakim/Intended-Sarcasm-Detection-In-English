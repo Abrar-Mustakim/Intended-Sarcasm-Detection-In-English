{
 "cells": [
  {
   "cell_type": "code",
   "execution_count": 1,
   "id": "905f5ede",
   "metadata": {
    "execution": {
     "iopub.execute_input": "2023-09-04T19:07:50.330397Z",
     "iopub.status.busy": "2023-09-04T19:07:50.329982Z",
     "iopub.status.idle": "2023-09-04T19:07:55.423537Z",
     "shell.execute_reply": "2023-09-04T19:07:55.422338Z"
    },
    "papermill": {
     "duration": 5.107661,
     "end_time": "2023-09-04T19:07:55.426489",
     "exception": false,
     "start_time": "2023-09-04T19:07:50.318828",
     "status": "completed"
    },
    "tags": []
   },
   "outputs": [
    {
     "name": "stderr",
     "output_type": "stream",
     "text": [
      "/opt/conda/lib/python3.10/site-packages/scipy/__init__.py:146: UserWarning: A NumPy version >=1.16.5 and <1.23.0 is required for this version of SciPy (detected version 1.23.5\n",
      "  warnings.warn(f\"A NumPy version >={np_minversion} and <{np_maxversion}\"\n"
     ]
    }
   ],
   "source": [
    "import torch\n",
    "import pandas as pd\n",
    "import torch.nn as nn\n",
    "import torch.optim as optim\n",
    "from torch.utils.data import DataLoader, TensorDataset\n",
    "from sklearn.model_selection import train_test_split\n",
    "import numpy as np\n",
    "from collections import Counter"
   ]
  },
  {
   "cell_type": "markdown",
   "id": "cf792eb5",
   "metadata": {
    "papermill": {
     "duration": 0.008212,
     "end_time": "2023-09-04T19:07:55.443168",
     "exception": false,
     "start_time": "2023-09-04T19:07:55.434956",
     "status": "completed"
    },
    "tags": []
   },
   "source": [
    "# **Load the datasets**"
   ]
  },
  {
   "cell_type": "code",
   "execution_count": 2,
   "id": "f616487c",
   "metadata": {
    "execution": {
     "iopub.execute_input": "2023-09-04T19:07:55.460567Z",
     "iopub.status.busy": "2023-09-04T19:07:55.460061Z",
     "iopub.status.idle": "2023-09-04T19:07:55.528464Z",
     "shell.execute_reply": "2023-09-04T19:07:55.527380Z"
    },
    "papermill": {
     "duration": 0.080555,
     "end_time": "2023-09-04T19:07:55.531566",
     "exception": false,
     "start_time": "2023-09-04T19:07:55.451011",
     "status": "completed"
    },
    "tags": []
   },
   "outputs": [],
   "source": [
    "english_task_a = pd.read_csv('/kaggle/input/intended-sarcasm-detection-in-english/english_task_a.csv')\n",
    "english_task_c = pd.read_csv('/kaggle/input/intended-sarcasm-detection-in-english/english_task_c.csv')\n",
    "train_data = pd.read_csv('/kaggle/input/intended-sarcasm-detection-in-english/train.En.csv')"
   ]
  },
  {
   "cell_type": "markdown",
   "id": "87afc800",
   "metadata": {
    "papermill": {
     "duration": 0.007855,
     "end_time": "2023-09-04T19:07:55.547680",
     "exception": false,
     "start_time": "2023-09-04T19:07:55.539825",
     "status": "completed"
    },
    "tags": []
   },
   "source": [
    "# **Select particular columns**"
   ]
  },
  {
   "cell_type": "code",
   "execution_count": 3,
   "id": "677670cc",
   "metadata": {
    "execution": {
     "iopub.execute_input": "2023-09-04T19:07:55.564466Z",
     "iopub.status.busy": "2023-09-04T19:07:55.564068Z",
     "iopub.status.idle": "2023-09-04T19:07:55.586743Z",
     "shell.execute_reply": "2023-09-04T19:07:55.585401Z"
    },
    "papermill": {
     "duration": 0.034586,
     "end_time": "2023-09-04T19:07:55.589845",
     "exception": false,
     "start_time": "2023-09-04T19:07:55.555259",
     "status": "completed"
    },
    "tags": []
   },
   "outputs": [],
   "source": [
    "english_task_a = english_task_a[['text', 'sarcasm_ref']]\n",
    "english_task_c_text_1 = english_task_c[['text_1','sarcastic_id_ref']]\n",
    "english_task_c_text_0 = english_task_c[['text_0','sarcastic_id_ref']]\n",
    "train_data_1 = train_data[['tweet', 'sarcastic']]\n",
    "train_data_2 = train_data[['rephrase', 'sarcasm']]"
   ]
  },
  {
   "cell_type": "code",
   "execution_count": 4,
   "id": "8eb3419c",
   "metadata": {
    "execution": {
     "iopub.execute_input": "2023-09-04T19:07:55.606863Z",
     "iopub.status.busy": "2023-09-04T19:07:55.606530Z",
     "iopub.status.idle": "2023-09-04T19:07:55.612991Z",
     "shell.execute_reply": "2023-09-04T19:07:55.611998Z"
    },
    "papermill": {
     "duration": 0.017245,
     "end_time": "2023-09-04T19:07:55.615157",
     "exception": false,
     "start_time": "2023-09-04T19:07:55.597912",
     "status": "completed"
    },
    "tags": []
   },
   "outputs": [],
   "source": [
    "english_task_a.columns = ['text', 'sarcasm']\n",
    "english_task_c_text_1.columns = ['text','sarcasm']\n",
    "english_task_c_text_0.columns = ['text','sarcasm']\n",
    "train_data_1.columns = ['text', 'sarcasm']\n",
    "train_data_2.columns = ['text', 'sarcasm']"
   ]
  },
  {
   "cell_type": "markdown",
   "id": "2156826a",
   "metadata": {
    "papermill": {
     "duration": 0.007274,
     "end_time": "2023-09-04T19:07:55.630306",
     "exception": false,
     "start_time": "2023-09-04T19:07:55.623032",
     "status": "completed"
    },
    "tags": []
   },
   "source": [
    "# **Combine data**"
   ]
  },
  {
   "cell_type": "code",
   "execution_count": 5,
   "id": "0ff7a828",
   "metadata": {
    "execution": {
     "iopub.execute_input": "2023-09-04T19:07:55.646237Z",
     "iopub.status.busy": "2023-09-04T19:07:55.645852Z",
     "iopub.status.idle": "2023-09-04T19:07:55.659938Z",
     "shell.execute_reply": "2023-09-04T19:07:55.658728Z"
    },
    "papermill": {
     "duration": 0.025499,
     "end_time": "2023-09-04T19:07:55.663018",
     "exception": false,
     "start_time": "2023-09-04T19:07:55.637519",
     "status": "completed"
    },
    "tags": []
   },
   "outputs": [
    {
     "name": "stdout",
     "output_type": "stream",
     "text": [
      "(8736, 2)\n",
      "(6134, 2)\n",
      "(6134, 2)\n",
      "(6134, 2)\n"
     ]
    }
   ],
   "source": [
    "combined_data = pd.concat([english_task_a,english_task_c_text_1,english_task_c_text_0,train_data_1,train_data_2], axis=0)\n",
    "print(combined_data.shape)\n",
    "# Remove any rows with NaN values in the 'text' and 'sarcasm' columns\n",
    "combined_data.dropna(subset=['text', 'sarcasm'], inplace=True)\n",
    "print(combined_data.shape)\n",
    "# Reset the index after concatenation\n",
    "combined_data.reset_index(drop=True, inplace=True)\n",
    "print(combined_data.shape)\n",
    "# 'combined_data' with 'text' and 'sarcasm' columns\n",
    "combined_data['sarcasm'] = combined_data['sarcasm'].astype(int)\n",
    "combined_data.head()\n",
    "print(combined_data.shape)"
   ]
  },
  {
   "cell_type": "markdown",
   "id": "0a1df87e",
   "metadata": {
    "papermill": {
     "duration": 0.006961,
     "end_time": "2023-09-04T19:07:55.678293",
     "exception": false,
     "start_time": "2023-09-04T19:07:55.671332",
     "status": "completed"
    },
    "tags": []
   },
   "source": [
    "# **Step 1: Preprocessing**"
   ]
  },
  {
   "cell_type": "code",
   "execution_count": 6,
   "id": "c8d4cc1a",
   "metadata": {
    "execution": {
     "iopub.execute_input": "2023-09-04T19:07:55.693924Z",
     "iopub.status.busy": "2023-09-04T19:07:55.693587Z",
     "iopub.status.idle": "2023-09-04T19:07:55.702596Z",
     "shell.execute_reply": "2023-09-04T19:07:55.701600Z"
    },
    "papermill": {
     "duration": 0.019417,
     "end_time": "2023-09-04T19:07:55.704774",
     "exception": false,
     "start_time": "2023-09-04T19:07:55.685357",
     "status": "completed"
    },
    "tags": []
   },
   "outputs": [],
   "source": [
    "\n",
    "def preprocess_data_torch(texts, labels, vocab_size=10000, seq_len=100):\n",
    "    all_texts = ' '.join(texts)\n",
    "    words = all_texts.split()\n",
    "    counts = Counter(words)\n",
    "    vocab = sorted(counts, key=counts.get, reverse=True)[:vocab_size]\n",
    "    vocab_to_int = {word: ii for ii, word in enumerate(vocab, 1)}\n",
    "    texts_ints = []\n",
    "    for text in texts:\n",
    "        texts_ints.append([vocab_to_int[word] for word in text.split() if word in vocab_to_int])\n",
    "    features = np.zeros((len(texts_ints), seq_len), dtype=int)\n",
    "    for i, row in enumerate(texts_ints):\n",
    "        if len(row) > 0:\n",
    "            features[i, -len(row):] = np.array(row)[:seq_len]\n",
    "    return torch.tensor(features), torch.tensor(labels), vocab_to_int"
   ]
  },
  {
   "cell_type": "code",
   "execution_count": 7,
   "id": "47a7dbf6",
   "metadata": {
    "execution": {
     "iopub.execute_input": "2023-09-04T19:07:55.720880Z",
     "iopub.status.busy": "2023-09-04T19:07:55.720539Z",
     "iopub.status.idle": "2023-09-04T19:09:17.587456Z",
     "shell.execute_reply": "2023-09-04T19:09:17.586361Z"
    },
    "papermill": {
     "duration": 81.878144,
     "end_time": "2023-09-04T19:09:17.590374",
     "exception": false,
     "start_time": "2023-09-04T19:07:55.712230",
     "status": "completed"
    },
    "tags": []
   },
   "outputs": [],
   "source": [
    "from gensim.models import KeyedVectors\n",
    "# Load vectors directly from the file\n",
    "# Load vectors directly from the file\n",
    "word2vec = KeyedVectors.load_word2vec_format('/kaggle/input/googlenewsvectorsnegative300/GoogleNews-vectors-negative300.bin', binary=True)\n",
    "\n",
    "# Example usage with a subset of 'english_task_a.csv'\n",
    "texts = combined_data[\"text\"]  # Replace with your data\n",
    "labels = combined_data[\"sarcasm\"]  # Replace with your data\n",
    "features, labels, vocab_to_int = preprocess_data_torch(texts, labels)\n",
    "\n",
    "# Now you can calculate embedding_matrix\n",
    "embedding_dim = 300  # For Google's Word2Vec model\n",
    "vocab_size = len(vocab_to_int) + 1  # Plus 1 for padding\n",
    "\n",
    "embedding_matrix = np.zeros((vocab_size, embedding_dim))\n",
    "for word, i in vocab_to_int.items():\n",
    "    if word in word2vec:\n",
    "        embedding_vector = word2vec[word]\n",
    "        embedding_matrix[i] = embedding_vector"
   ]
  },
  {
   "cell_type": "markdown",
   "id": "92f3c603",
   "metadata": {
    "papermill": {
     "duration": 0.007207,
     "end_time": "2023-09-04T19:09:17.605453",
     "exception": false,
     "start_time": "2023-09-04T19:09:17.598246",
     "status": "completed"
    },
    "tags": []
   },
   "source": [
    "# **Step 2: Define the LSTM Model**"
   ]
  },
  {
   "cell_type": "code",
   "execution_count": 8,
   "id": "4d0a7c54",
   "metadata": {
    "execution": {
     "iopub.execute_input": "2023-09-04T19:09:17.621608Z",
     "iopub.status.busy": "2023-09-04T19:09:17.621243Z",
     "iopub.status.idle": "2023-09-04T19:09:17.631259Z",
     "shell.execute_reply": "2023-09-04T19:09:17.630262Z"
    },
    "papermill": {
     "duration": 0.020508,
     "end_time": "2023-09-04T19:09:17.633234",
     "exception": false,
     "start_time": "2023-09-04T19:09:17.612726",
     "status": "completed"
    },
    "tags": []
   },
   "outputs": [],
   "source": [
    "\n",
    "class SarcasmLSTM(nn.Module):\n",
    "    def __init__(self, vocab_size, output_size, embedding_dim, hidden_dim, n_layers, drop_prob=0.5, embedding_matrix=None):\n",
    "        super(SarcasmLSTM, self).__init__()\n",
    "        self.output_size = output_size\n",
    "        self.n_layers = n_layers\n",
    "        self.hidden_dim = hidden_dim\n",
    "\n",
    "        self.embedding = nn.Embedding(vocab_size, embedding_dim)\n",
    "        if embedding_matrix is not None:\n",
    "            self.embedding.weight.data.copy_(torch.from_numpy(embedding_matrix))\n",
    "            self.embedding.weight.requires_grad = False  # Set to `True` if you want it to be trainable\n",
    "\n",
    "        self.lstm = nn.LSTM(embedding_dim, hidden_dim, n_layers, dropout=drop_prob, batch_first=True)\n",
    "        self.dropout = nn.Dropout(drop_prob)\n",
    "        self.fc = nn.Linear(hidden_dim, output_size)\n",
    "        self.sigmoid = nn.Sigmoid()\n",
    "\n",
    "        \n",
    "    def forward(self, x, hidden):\n",
    "        batch_size = x.size(0)\n",
    "        x = self.embedding(x)\n",
    "        lstm_out, hidden = self.lstm(x, hidden)\n",
    "        lstm_out = lstm_out[:, -1, :]\n",
    "        out = self.dropout(lstm_out)\n",
    "        out = self.fc(out)\n",
    "        out = self.sigmoid(out)\n",
    "        return out, hidden"
   ]
  },
  {
   "cell_type": "markdown",
   "id": "7975bc2c",
   "metadata": {
    "papermill": {
     "duration": 0.006864,
     "end_time": "2023-09-04T19:09:17.647095",
     "exception": false,
     "start_time": "2023-09-04T19:09:17.640231",
     "status": "completed"
    },
    "tags": []
   },
   "source": [
    "# **Step 3: Train the Model**"
   ]
  },
  {
   "cell_type": "code",
   "execution_count": 9,
   "id": "e3c53a53",
   "metadata": {
    "execution": {
     "iopub.execute_input": "2023-09-04T19:09:17.663852Z",
     "iopub.status.busy": "2023-09-04T19:09:17.662833Z",
     "iopub.status.idle": "2023-09-04T19:09:17.680086Z",
     "shell.execute_reply": "2023-09-04T19:09:17.679134Z"
    },
    "papermill": {
     "duration": 0.028058,
     "end_time": "2023-09-04T19:09:17.682150",
     "exception": false,
     "start_time": "2023-09-04T19:09:17.654092",
     "status": "completed"
    },
    "tags": []
   },
   "outputs": [],
   "source": [
    "import matplotlib.pyplot as plt\n",
    "from sklearn.metrics import precision_score, recall_score, confusion_matrix\n",
    "from sklearn.metrics import f1_score\n",
    "\n",
    "def plot_confusion_matrix(cm, classes):\n",
    "    plt.imshow(cm, interpolation='nearest', cmap=plt.cm.Blues)\n",
    "    plt.title('Confusion Matrix')\n",
    "    plt.colorbar()\n",
    "    tick_marks = np.arange(len(classes))\n",
    "    plt.xticks(tick_marks, classes, rotation=45)\n",
    "    plt.yticks(tick_marks, classes)\n",
    "\n",
    "    fmt = 'd'  # Display integers in the cells\n",
    "\n",
    "    thresh = cm.max() / 2.\n",
    "    for i in range(cm.shape[0]):\n",
    "        for j in range(cm.shape[1]):\n",
    "            plt.text(j, i, format(cm[i, j], fmt), horizontalalignment=\"center\", color=\"white\" if cm[i, j] > thresh else \"black\")\n",
    "\n",
    "    plt.ylabel('True label')\n",
    "    plt.xlabel('Predicted label')\n",
    "    plt.show()\n",
    "\n",
    "\n",
    "def train_model(model, train_loader, valid_loader, epochs=20, clip=5):\n",
    "    criterion = nn.BCELoss()\n",
    "    optimizer = optim.Adam(model.parameters(), lr=0.001)\n",
    "\n",
    "    for epoch in range(epochs):\n",
    "        model.train()\n",
    "        for inputs, labels in train_loader:\n",
    "            h = (torch.zeros(2, inputs.size(0), 256), torch.zeros(2, inputs.size(0), 256))\n",
    "            output, h = model(inputs, h)\n",
    "            loss = criterion(output.squeeze(), labels.float())\n",
    "            optimizer.zero_grad()\n",
    "            loss.backward()\n",
    "            nn.utils.clip_grad_norm_(model.parameters(), clip)\n",
    "            optimizer.step()\n",
    "\n",
    "        model.eval()\n",
    "        valid_losses = []\n",
    "        all_preds = []\n",
    "        all_labels = []\n",
    "        \n",
    "        for v_inputs, v_labels in valid_loader:\n",
    "            v_h = (torch.zeros(2, v_inputs.size(0), 256), torch.zeros(2, v_inputs.size(0), 256))\n",
    "            v_output, v_h = model(v_inputs, v_h)\n",
    "            v_loss = criterion(v_output.squeeze(), v_labels.float())\n",
    "            valid_losses.append(v_loss.item())\n",
    "            \n",
    "            preds = torch.round(v_output.squeeze()).detach().cpu().numpy()\n",
    "            labels = v_labels.cpu().numpy()\n",
    "            all_preds.extend(preds)\n",
    "            all_labels.extend(labels)\n",
    "            \n",
    "        precision = precision_score(all_labels, all_preds)\n",
    "        recall = recall_score(all_labels, all_preds)\n",
    "        f1 = f1_score(all_labels, all_preds)  # Compute F1 score\n",
    "        conf_mat = confusion_matrix(all_labels, all_preds)\n",
    "        accuracy = (conf_mat[0, 0] + conf_mat[1, 1]) / np.sum(conf_mat)\n",
    "        \n",
    "        print(f\"Epoch: {epoch+1}/{epochs}... Training Loss: {loss.item()}... Validation Loss: {np.mean(valid_losses)}\")\n",
    "        print(f\"Precision: {precision}, Recall: {recall}\")\n",
    "        print(f\"F1-Score: {f1}\")\n",
    "        print(f\"Accuracy: {accuracy}\")\n",
    "        \n",
    "    print(f\"Final Confusion Matrix:\\n{conf_mat}\")\n",
    "    plot_confusion_matrix(conf_mat, classes=['Non-Sarcastic', 'Sarcastic'])"
   ]
  },
  {
   "cell_type": "code",
   "execution_count": 10,
   "id": "4a8d8283",
   "metadata": {
    "execution": {
     "iopub.execute_input": "2023-09-04T19:09:17.698028Z",
     "iopub.status.busy": "2023-09-04T19:09:17.697723Z",
     "iopub.status.idle": "2023-09-04T19:09:17.832807Z",
     "shell.execute_reply": "2023-09-04T19:09:17.831761Z"
    },
    "papermill": {
     "duration": 0.145754,
     "end_time": "2023-09-04T19:09:17.835312",
     "exception": false,
     "start_time": "2023-09-04T19:09:17.689558",
     "status": "completed"
    },
    "tags": []
   },
   "outputs": [],
   "source": [
    "texts = combined_data[\"text\"]  # Replace with your data\n",
    "labels = combined_data[\"sarcasm\"]  # Replace with your data\n",
    "features, labels, vocab_to_int = preprocess_data_torch(texts, labels)"
   ]
  },
  {
   "cell_type": "markdown",
   "id": "b7195394",
   "metadata": {
    "papermill": {
     "duration": 0.007138,
     "end_time": "2023-09-04T19:09:17.850625",
     "exception": false,
     "start_time": "2023-09-04T19:09:17.843487",
     "status": "completed"
    },
    "tags": []
   },
   "source": [
    "# **Create DataLoaders**"
   ]
  },
  {
   "cell_type": "code",
   "execution_count": 11,
   "id": "ebd96909",
   "metadata": {
    "execution": {
     "iopub.execute_input": "2023-09-04T19:09:17.866520Z",
     "iopub.status.busy": "2023-09-04T19:09:17.866190Z",
     "iopub.status.idle": "2023-09-04T19:09:17.888713Z",
     "shell.execute_reply": "2023-09-04T19:09:17.887739Z"
    },
    "papermill": {
     "duration": 0.033325,
     "end_time": "2023-09-04T19:09:17.891240",
     "exception": false,
     "start_time": "2023-09-04T19:09:17.857915",
     "status": "completed"
    },
    "tags": []
   },
   "outputs": [],
   "source": [
    "\n",
    "train_data, val_data, train_labels, val_labels = train_test_split(features, labels, test_size=0.3)\n",
    "\n",
    "train_data = TensorDataset(train_data, train_labels)\n",
    "val_data = TensorDataset(val_data, val_labels)\n",
    "\n",
    "from torch.utils.data import RandomSampler\n",
    "train_sampler = RandomSampler(train_data)\n",
    "val_sampler = RandomSampler(val_data)\n",
    "\n",
    "train_loader = DataLoader(train_data, batch_size=50, sampler=train_sampler)\n",
    "val_loader = DataLoader(val_data, batch_size=50, sampler=val_sampler)"
   ]
  },
  {
   "cell_type": "markdown",
   "id": "b67f9ace",
   "metadata": {
    "papermill": {
     "duration": 0.007172,
     "end_time": "2023-09-04T19:09:17.906066",
     "exception": false,
     "start_time": "2023-09-04T19:09:17.898894",
     "status": "completed"
    },
    "tags": []
   },
   "source": [
    "# **Initialize the model**"
   ]
  },
  {
   "cell_type": "code",
   "execution_count": 12,
   "id": "1572e3a9",
   "metadata": {
    "execution": {
     "iopub.execute_input": "2023-09-04T19:09:17.922042Z",
     "iopub.status.busy": "2023-09-04T19:09:17.921681Z",
     "iopub.status.idle": "2023-09-04T19:09:17.973982Z",
     "shell.execute_reply": "2023-09-04T19:09:17.972943Z"
    },
    "papermill": {
     "duration": 0.063251,
     "end_time": "2023-09-04T19:09:17.976454",
     "exception": false,
     "start_time": "2023-09-04T19:09:17.913203",
     "status": "completed"
    },
    "tags": []
   },
   "outputs": [],
   "source": [
    "model = SarcasmLSTM(vocab_size=vocab_size, output_size=1, embedding_dim=embedding_dim, hidden_dim=256, n_layers=2, embedding_matrix=embedding_matrix)"
   ]
  },
  {
   "cell_type": "markdown",
   "id": "91e5529a",
   "metadata": {
    "papermill": {
     "duration": 0.007125,
     "end_time": "2023-09-04T19:09:17.991233",
     "exception": false,
     "start_time": "2023-09-04T19:09:17.984108",
     "status": "completed"
    },
    "tags": []
   },
   "source": [
    "# **Result: Precision, Recall, accuracy, confusion matrix**"
   ]
  },
  {
   "cell_type": "code",
   "execution_count": 13,
   "id": "a802757f",
   "metadata": {
    "execution": {
     "iopub.execute_input": "2023-09-04T19:09:18.009076Z",
     "iopub.status.busy": "2023-09-04T19:09:18.007253Z",
     "iopub.status.idle": "2023-09-04T19:25:24.321441Z",
     "shell.execute_reply": "2023-09-04T19:25:24.320447Z"
    },
    "papermill": {
     "duration": 966.32517,
     "end_time": "2023-09-04T19:25:24.323719",
     "exception": false,
     "start_time": "2023-09-04T19:09:17.998549",
     "status": "completed"
    },
    "tags": []
   },
   "outputs": [
    {
     "name": "stderr",
     "output_type": "stream",
     "text": [
      "/opt/conda/lib/python3.10/site-packages/sklearn/metrics/_classification.py:1344: UndefinedMetricWarning: Precision is ill-defined and being set to 0.0 due to no predicted samples. Use `zero_division` parameter to control this behavior.\n",
      "  _warn_prf(average, modifier, msg_start, len(result))\n"
     ]
    },
    {
     "name": "stdout",
     "output_type": "stream",
     "text": [
      "Epoch: 1/20... Training Loss: 0.6511855721473694... Validation Loss: 0.628928546969955\n",
      "Precision: 0.0, Recall: 0.0\n",
      "F1-Score: 0.0\n",
      "Accuracy: 0.6757197175448126\n"
     ]
    },
    {
     "name": "stderr",
     "output_type": "stream",
     "text": [
      "/opt/conda/lib/python3.10/site-packages/sklearn/metrics/_classification.py:1344: UndefinedMetricWarning: Precision is ill-defined and being set to 0.0 due to no predicted samples. Use `zero_division` parameter to control this behavior.\n",
      "  _warn_prf(average, modifier, msg_start, len(result))\n"
     ]
    },
    {
     "name": "stdout",
     "output_type": "stream",
     "text": [
      "Epoch: 2/20... Training Loss: 0.7527618408203125... Validation Loss: 0.6364834324733631\n",
      "Precision: 0.0, Recall: 0.0\n",
      "F1-Score: 0.0\n",
      "Accuracy: 0.6757197175448126\n",
      "Epoch: 3/20... Training Loss: 0.6815283298492432... Validation Loss: 0.6266951448208576\n",
      "Precision: 0.45588235294117646, Recall: 0.051926298157453935\n",
      "F1-Score: 0.09323308270676692\n",
      "Accuracy: 0.6724606192286801\n",
      "Epoch: 4/20... Training Loss: 0.6270503997802734... Validation Loss: 0.6307507801700283\n",
      "Precision: 0.43157894736842106, Recall: 0.06867671691792294\n",
      "F1-Score: 0.11849710982658959\n",
      "Accuracy: 0.6686583378598587\n",
      "Epoch: 5/20... Training Loss: 0.47482672333717346... Validation Loss: 0.6454413766796524\n",
      "Precision: 0.43253968253968256, Recall: 0.18257956448911222\n",
      "F1-Score: 0.2567726737338045\n",
      "Accuracy: 0.6572514937533949\n",
      "Epoch: 6/20... Training Loss: 0.5369815230369568... Validation Loss: 0.6640180969560469\n",
      "Precision: 0.453125, Recall: 0.09715242881072027\n",
      "F1-Score: 0.15999999999999998\n",
      "Accuracy: 0.6692015209125475\n",
      "Epoch: 7/20... Training Loss: 0.4813470244407654... Validation Loss: 0.6789218952526918\n",
      "Precision: 0.3881578947368421, Recall: 0.19765494137353434\n",
      "F1-Score: 0.26193118756936734\n",
      "Accuracy: 0.6387832699619772\n",
      "Epoch: 8/20... Training Loss: 0.3943142592906952... Validation Loss: 0.7079678355036555\n",
      "Precision: 0.4469026548672566, Recall: 0.16917922948073702\n",
      "F1-Score: 0.24544349939246657\n",
      "Accuracy: 0.6626833242802824\n",
      "Epoch: 9/20... Training Loss: 0.38077688217163086... Validation Loss: 0.6957203520310892\n",
      "Precision: 0.3844086021505376, Recall: 0.23953098827470687\n",
      "F1-Score: 0.2951496388028896\n",
      "Accuracy: 0.6290059750135796\n",
      "Epoch: 10/20... Training Loss: 0.5138409733772278... Validation Loss: 0.7800434698929658\n",
      "Precision: 0.35683453237410073, Recall: 0.4154103852596315\n",
      "F1-Score: 0.3839009287925696\n",
      "Accuracy: 0.5676262900597502\n",
      "Epoch: 11/20... Training Loss: 0.2691420018672943... Validation Loss: 0.849394132962098\n",
      "Precision: 0.3693516699410609, Recall: 0.3149078726968174\n",
      "F1-Score: 0.33996383363471966\n",
      "Accuracy: 0.603476371537208\n",
      "Epoch: 12/20... Training Loss: 0.2600935697555542... Validation Loss: 0.9314991719013935\n",
      "Precision: 0.3918918918918919, Recall: 0.24288107202680068\n",
      "F1-Score: 0.2998965873836608\n",
      "Accuracy: 0.6322650733297122\n",
      "Epoch: 13/20... Training Loss: 0.3147144317626953... Validation Loss: 1.0145412345190306\n",
      "Precision: 0.39606126914660833, Recall: 0.30318257956448913\n",
      "F1-Score: 0.3434535104364327\n",
      "Accuracy: 0.6241173275393808\n",
      "Epoch: 14/20... Training Loss: 0.22950418293476105... Validation Loss: 1.2067762935483777\n",
      "Precision: 0.4172494172494173, Recall: 0.2998324958123953\n",
      "F1-Score: 0.3489278752436647\n",
      "Accuracy: 0.637153720803911\n",
      "Epoch: 15/20... Training Loss: 0.16246174275875092... Validation Loss: 1.2930947638846733\n",
      "Precision: 0.38445807770961143, Recall: 0.3149078726968174\n",
      "F1-Score: 0.34622467771639037\n",
      "Accuracy: 0.6143400325909831\n",
      "Epoch: 16/20... Training Loss: 0.20875130593776703... Validation Loss: 1.280526125753248\n",
      "Precision: 0.3877995642701525, Recall: 0.2981574539363484\n",
      "F1-Score: 0.3371212121212121\n",
      "Accuracy: 0.6197718631178707\n",
      "Epoch: 17/20... Training Loss: 0.13233083486557007... Validation Loss: 1.4664362926740904\n",
      "Precision: 0.3677536231884058, Recall: 0.34003350083752093\n",
      "F1-Score: 0.3533507397737162\n",
      "Accuracy: 0.5964149918522542\n",
      "Epoch: 18/20... Training Loss: 0.09198175370693207... Validation Loss: 1.6906742453575134\n",
      "Precision: 0.37130801687763715, Recall: 0.2948073701842546\n",
      "F1-Score: 0.32866479925303455\n",
      "Accuracy: 0.6094513851167843\n",
      "Epoch: 19/20... Training Loss: 0.21310044825077057... Validation Loss: 1.732169686137019\n",
      "Precision: 0.40384615384615385, Recall: 0.2814070351758794\n",
      "F1-Score: 0.33168805528134254\n",
      "Accuracy: 0.6322650733297122\n",
      "Epoch: 20/20... Training Loss: 0.11777076870203018... Validation Loss: 1.7923570678040788\n",
      "Precision: 0.3937007874015748, Recall: 0.33500837520938026\n",
      "F1-Score: 0.3619909502262444\n",
      "Accuracy: 0.617055947854427\n",
      "Final Confusion Matrix:\n",
      "[[936 308]\n",
      " [397 200]]\n"
     ]
    },
    {
     "data": {
      "image/png": "[encoded data removed]",
      "text/plain": [
       "<Figure size 640x480 with 2 Axes>"
      ]
     },
     "metadata": {},
     "output_type": "display_data"
    }
   ],
   "source": [
    "train_model(model, train_loader, val_loader)"
   ]
  },
  {
   "cell_type": "code",
   "execution_count": 14,
   "id": "9f6cc207",
   "metadata": {
    "execution": {
     "iopub.execute_input": "2023-09-04T19:25:24.345694Z",
     "iopub.status.busy": "2023-09-04T19:25:24.344837Z",
     "iopub.status.idle": "2023-09-04T19:25:24.353831Z",
     "shell.execute_reply": "2023-09-04T19:25:24.352631Z"
    },
    "papermill": {
     "duration": 0.022407,
     "end_time": "2023-09-04T19:25:24.356117",
     "exception": false,
     "start_time": "2023-09-04T19:25:24.333710",
     "status": "completed"
    },
    "tags": []
   },
   "outputs": [
    {
     "name": "stdout",
     "output_type": "stream",
     "text": [
      "Max token ID in features: 10000\n",
      "Min token ID in features: 0\n"
     ]
    }
   ],
   "source": [
    "print(f\"Max token ID in features: {torch.max(features)}\")\n",
    "print(f\"Min token ID in features: {torch.min(features)}\")"
   ]
  }
 ],
 "kernelspec": {
  "display_name": "Python 3",
  "language": "python",
  "name": "python3"
 },
 "language_info": {
  "codemirror_mode": {
   "name": "ipython",
   "version": 3
  },
  "file_extension": ".py",
  "mimetype": "text/x-python",
  "name": "python",
  "nbconvert_exporter": "python",
  "pygments_lexer": "ipython3",
  "version": "3.6.4"
 },
 "metadata": {
  "kernelspec": {
   "display_name": "Python 3",
   "language": "python",
   "name": "python3"
  },
  "language_info": {
   "codemirror_mode": {
    "name": "ipython",
    "version": 3
   },
   "file_extension": ".py",
   "mimetype": "text/x-python",
   "name": "python",
   "nbconvert_exporter": "python",
   "pygments_lexer": "ipython3",
   "version": "3.10.12"
  },
  "papermill": {
   "default_parameters": {},
   "duration": 1060.256063,
   "end_time": "2023-09-04T19:25:27.084114",
   "environment_variables": {},
   "exception": null,
   "input_path": "__notebook__.ipynb",
   "output_path": "__notebook__.ipynb",
   "parameters": {},
   "start_time": "2023-09-04T19:07:46.828051",
   "version": "2.4.0"
  }
 },
 "nbformat": 4,
 "nbformat_minor": 5
}
